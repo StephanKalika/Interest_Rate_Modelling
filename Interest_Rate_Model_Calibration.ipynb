{
 "cells": [
  {
   "cell_type": "code",
   "execution_count": 1,
   "metadata": {},
   "outputs": [],
   "source": [
    "# Calibrating the Vasicek Model\n",
    "# We want to find values for alpha, beta "
   ]
  },
  {
   "cell_type": "code",
   "execution_count": 2,
   "metadata": {},
   "outputs": [],
   "source": [
    "# Import modules \n",
    "import math\n",
    "import numpy as np\n",
    "from scipy.stats import norm\n",
    "import scipy.optimize as optimize\n",
    "import matplotlib.pyplot as plt"
   ]
  },
  {
   "cell_type": "code",
   "execution_count": 14,
   "metadata": {},
   "outputs": [],
   "source": [
    "# Initial known values, start values etc\n",
    "r_0  = 0.05 "
   ]
  },
  {
   "cell_type": "code",
   "execution_count": 28,
   "metadata": {},
   "outputs": [],
   "source": [
    "# Make use of market bond prices to use as input in calibration\n",
    "# In this case we will use synthetic prices based on B(0,t) = exp(-(1+(1+6t)*ln(1+t))/40)\n",
    "years = np.linspace(1,10,10)\n",
    "market_bond_prices = np.exp(-(1+(1+6*years)*np.log(1+years))/40)"
   ]
  },
  {
   "cell_type": "code",
   "execution_count": 30,
   "metadata": {},
   "outputs": [],
   "source": [
    "#. Analytical bond price functions based off closed form Vasicek model\n",
    "def A_t_T(t1,t2,alpha):\n",
    "    return (1 - np.exp(-alpha*(t2-t1)))/alpha\n",
    "\n",
    "def D_t_T(t1,t2,alpha,b,sigma):\n",
    "    val1 = (sigma**2/(2*alpha**2)-b)*(-A_t_T(t1,t2,alpha)+ t2-t1)\n",
    "    val2 = sigma**2*A_t_T(t1,t2,alpha)**2/(4*alpha)\n",
    "    return val1-val2\n",
    "    \n",
    "def bond_price(r_t,t,T,alpha, b, sigma):\n",
    "    return np.exp(-A_t_T(t,T,alpha)*r_t + D_t_T(t,T,alpha,b,sigma))\n",
    "\n",
    "# Perform least absolute difference minimization\n",
    "def F(array_estimates):\n",
    "    alpha = array_estimates[0]\n",
    "    b     = array_estimates[1]\n",
    "    sigma = array_estimates[2]\n",
    "    return  sum(np.abs(bond_price(r_0,0,years,alpha, b, sigma)- market_bond_prices))\n"
   ]
  },
  {
   "cell_type": "code",
   "execution_count": 35,
   "metadata": {},
   "outputs": [
    {
     "name": "stdout",
     "output_type": "stream",
     "text": [
      "Optimization terminated successfully.    (Exit mode 0)\n",
      "            Current function value: 0.046173000596792524\n",
      "            Iterations: 20\n",
      "            Function evaluations: 139\n",
      "            Gradient evaluations: 20\n"
     ]
    },
    {
     "name": "stderr",
     "output_type": "stream",
     "text": [
      "C:\\Users\\Zed\\Anaconda3\\lib\\site-packages\\ipykernel_launcher.py:3: RuntimeWarning: invalid value encountered in true_divide\n",
      "  This is separate from the ipykernel package so we can avoid doing imports until\n",
      "C:\\Users\\Zed\\Anaconda3\\lib\\site-packages\\ipykernel_launcher.py:6: RuntimeWarning: divide by zero encountered in double_scalars\n",
      "  \n"
     ]
    },
    {
     "data": {
      "text/plain": [
       "array([0.88023349, 0.69092331, 0.50485223, 0.35270193, 0.23955851,\n",
       "       0.15985259, 0.10548372, 0.06911985, 0.0450921 , 0.02933519])"
      ]
     },
     "execution_count": 35,
     "metadata": {},
     "output_type": "execute_result"
    }
   ],
   "source": [
    "#. Constraints and model requirements e.g Vasicek assumes parameters are postive\n",
    "#   0<alpha<2, 0<b<0.5 , 0<sigma<0.2 upper bounds based on rationality check e.g data has highest yiled of 36% ,50% is ideal\n",
    "bounds = ((0,2),(0,0.5),(0,0.2))\n",
    "\n",
    "#. Use optimization function to find parameter values \n",
    "optimal_values = optimize.fmin_slsqp(F,(0.7,0.01,0.01),bounds=bounds)\n",
    "\n",
    "# Use parameters from calibration to find model prices\n",
    "model_bond_prices = bond_price(r_0,0,years,optimal_values[0],optimal_values[1],optimal_values[2])\n",
    "model_bond_prices"
   ]
  },
  {
   "cell_type": "code",
   "execution_count": 37,
   "metadata": {},
   "outputs": [
    {
     "data": {
      "text/plain": [
       "[<matplotlib.lines.Line2D at 0x283fcf47dd8>]"
      ]
     },
     "execution_count": 37,
     "metadata": {},
     "output_type": "execute_result"
    },
    {
     "data": {
      "image/png": "[encoded data removed]",
      "text/plain": [
       "<Figure size 432x288 with 1 Axes>"
      ]
     },
     "metadata": {
      "needs_background": "light"
     },
     "output_type": "display_data"
    }
   ],
   "source": [
    "# Plot implied bond price curve against the market bond price curve\n",
    "plt.xlabel(\"Maturity\")\n",
    "plt.ylabel(\"Bond Price\")\n",
    "plt.plot(years, market_bond_prices)\n",
    "plt.plot(years,model_bond_prices,'*')"
   ]
  }
 ],
 "metadata": {
  "kernelspec": {
   "display_name": "Python 3",
   "language": "python",
   "name": "python3"
  },
  "language_info": {
   "codemirror_mode": {
    "name": "ipython",
    "version": 3
   },
   "file_extension": ".py",
   "mimetype": "text/x-python",
   "name": "python",
   "nbconvert_exporter": "python",
   "pygments_lexer": "ipython3",
   "version": "3.7.3"
  }
 },
 "nbformat": 4,
 "nbformat_minor": 2
}
