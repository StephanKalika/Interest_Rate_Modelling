{
 "cells": [
  {
   "cell_type": "code",
   "execution_count": null,
   "metadata": {},
   "outputs": [],
   "source": [
    "# Vasicek Model \n",
    "# r_t = r_0exp(-alpha*t) + sigmaexp(-alpha*t)Integral[0:t][exp(-alpha*s) dWs]\n",
    "# "
   ]
  },
  {
   "cell_type": "code",
   "execution_count": 1,
   "metadata": {},
   "outputs": [],
   "source": [
    "# Import modules \n",
    "import math\n",
    "import numpy as np\n",
    "from scipy.stats import norm\n",
    "import scipy.integrate as integrate\n",
    "import matplotlib.pyplot as plt"
   ]
  },
  {
   "cell_type": "code",
   "execution_count": 13,
   "metadata": {},
   "outputs": [
    {
     "data": {
      "text/plain": [
       "array([ 0,  1,  2,  3,  4,  5,  6,  7,  8,  9, 10])"
      ]
     },
     "execution_count": 13,
     "metadata": {},
     "output_type": "execute_result"
    }
   ],
   "source": [
    "# Market, option,interest rate information and dynamics\n",
    "r_0   = 0.05   # initial r(0) starting/known interest rate \n",
    "alpha = 0.2    # rate at which short rate tends toward long-term average\n",
    "b     = 0.08   # long-term average short rate\n",
    "sigma = 0.025  # volatility of short rate\n",
    "\n",
    "# Monte Carlo Simulation dynamics\n",
    "num_years       = 10 \n",
    "num_simulations = 10\n",
    "t               = np.array(range(0,num_years+1))\n",
    "t"
   ]
  },
  {
   "cell_type": "code",
   "execution_count": 2,
   "metadata": {},
   "outputs": [],
   "source": [
    "# Functions for modelling\n",
    "def vasicek_mean(r_t1,t1,t2):\n",
    "    return r_t1*np.exp(-alpha*(t2-t1)) + b*(1-np.exp(-alpha*(t2-t1)))\n",
    "\n",
    "def vasicek_var(t1,t2):\n",
    "    return (sigma**2/2*(alpha))*(1-np.exp(-2*alpha*(t2-t1)))"
   ]
  },
  {
   "cell_type": "code",
   "execution_count": 14,
   "metadata": {},
   "outputs": [
    {
     "data": {
      "text/plain": [
       "array([[0.05      , 0.0549252 , 0.06986729, 0.07170327, 0.07373449,\n",
       "        0.07323694, 0.07711371, 0.07728108, 0.07250675, 0.0743736 ,\n",
       "        0.07461611],\n",
       "       [0.05      , 0.04893879, 0.04976839, 0.05180115, 0.05407707,\n",
       "        0.05086376, 0.05797745, 0.0675169 , 0.06667978, 0.07585686,\n",
       "        0.07328744],\n",
       "       [0.05      , 0.04930429, 0.0477745 , 0.05440497, 0.05532852,\n",
       "        0.0616889 , 0.07412038, 0.07232611, 0.06524508, 0.06826532,\n",
       "        0.07066655],\n",
       "       [0.05      , 0.06235288, 0.06410367, 0.06794195, 0.0660888 ,\n",
       "        0.05956426, 0.07258456, 0.06686995, 0.06933371, 0.07386213,\n",
       "        0.07616659],\n",
       "       [0.05      , 0.0507582 , 0.04673955, 0.05369537, 0.06552288,\n",
       "        0.06604181, 0.07797405, 0.07305284, 0.08129374, 0.07565266,\n",
       "        0.07177921],\n",
       "       [0.05      , 0.04559764, 0.04494046, 0.05663952, 0.06971631,\n",
       "        0.06346689, 0.07089338, 0.06775089, 0.06905305, 0.06148262,\n",
       "        0.06328321],\n",
       "       [0.05      , 0.05976797, 0.07139643, 0.07218473, 0.07221891,\n",
       "        0.07214894, 0.06901974, 0.07077529, 0.06650598, 0.06755788,\n",
       "        0.07091365],\n",
       "       [0.05      , 0.05200627, 0.0623371 , 0.06706877, 0.07089083,\n",
       "        0.07462318, 0.07565052, 0.07433582, 0.07944019, 0.08073262,\n",
       "        0.08022632],\n",
       "       [0.05      , 0.04531881, 0.05743131, 0.06246322, 0.06720166,\n",
       "        0.06988271, 0.06631834, 0.07293886, 0.07082714, 0.06678959,\n",
       "        0.06733232],\n",
       "       [0.05      , 0.05067106, 0.05590707, 0.06061011, 0.06739893,\n",
       "        0.06451988, 0.07493004, 0.07126689, 0.07497288, 0.06387671,\n",
       "        0.06721328]])"
      ]
     },
     "execution_count": 14,
     "metadata": {},
     "output_type": "execute_result"
    }
   ],
   "source": [
    "# Simulating interest paths\n",
    "Z               = norm.rvs(size = [num_simulations,num_years])\n",
    "r_sim           = np.zeros([num_simulations,num_years+1])\n",
    "r_sim[:,0]      = r_0\n",
    "vasicek_means   = np.zeros(num_years+1)\n",
    "\n",
    "for i in range(num_years):\n",
    "    r_sim[:,i+1] = vasicek_mean(r_sim[:,i],t[i],t[i+1]) + np.sqrt(vasicek_var(t[i],t[i+1]))*Z[:,i]\n",
    "r_sim"
   ]
  },
  {
   "cell_type": "code",
   "execution_count": null,
   "metadata": {},
   "outputs": [],
   "source": []
  }
 ],
 "metadata": {
  "kernelspec": {
   "display_name": "Python 3",
   "language": "python",
   "name": "python3"
  },
  "language_info": {
   "codemirror_mode": {
    "name": "ipython",
    "version": 3
   },
   "file_extension": ".py",
   "mimetype": "text/x-python",
   "name": "python",
   "nbconvert_exporter": "python",
   "pygments_lexer": "ipython3",
   "version": "3.7.3"
  }
 },
 "nbformat": 4,
 "nbformat_minor": 2
}
