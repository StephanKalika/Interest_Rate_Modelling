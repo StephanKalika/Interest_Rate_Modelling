{
 "cells": [
  {
   "cell_type": "code",
   "execution_count": null,
   "metadata": {},
   "outputs": [],
   "source": [
    "# Vasicek Model - a special case of Hull White Model\n",
    "# r_t = r_0exp(-alpha*t) + sigmaexp(-alpha*t)Integral[0:t][exp(-alpha*s) dWs]\n",
    "# Given we know r_t1; r_t2 ~ N(r_t1*exp(-alpha(t2-t1)) + b(1-exp(-alpha(t2-t1))), sigma**2/2*alpha * (1-exp(-2*alpha*(t2-t1))))\n",
    "# Above is due to independant increments of Brownina motion\n",
    "# Advantage  - has closed form solution\n",
    "# Disadvantage Vasicek model -short rates can become negative"
   ]
  },
  {
   "cell_type": "code",
   "execution_count": null,
   "metadata": {},
   "outputs": [],
   "source": [
    "# Bond price under close form Vasicek Model is \n",
    "# B(t,T)  = exp(-A(t,T) + D(t,T))\n",
    "# A(t,T)  = 1-exp(-alpha*(T-t))\n",
    "# D(t,T)  = (b- sigma**2/2*alpha**2) [A(t,T) - (T-t)] - sigma**2*A(t,T)**2/4*alpha"
   ]
  },
  {
   "cell_type": "code",
   "execution_count": 1,
   "metadata": {},
   "outputs": [],
   "source": [
    "# Import modules \n",
    "import math\n",
    "import numpy as np\n",
    "from scipy.stats import norm\n",
    "import scipy.integrate as integrate\n",
    "import matplotlib.pyplot as plt"
   ]
  },
  {
   "cell_type": "code",
   "execution_count": 2,
   "metadata": {},
   "outputs": [],
   "source": [
    "# Market, option,interest rate information and dynamics\n",
    "r_0   = 0.05   # initial r(0) starting/known interest rate \n",
    "alpha = 0.2    # rate at which short rate tends toward long-term average\n",
    "b     = 0.08   # long-term average short rate\n",
    "sigma = 0.025  # volatility of short rate\n",
    "\n",
    "# Monte Carlo Simulation dynamics\n",
    "num_years       = 10 \n",
    "num_simulations = 100000\n",
    "t               = np.array(range(0,num_years+1))"
   ]
  },
  {
   "cell_type": "code",
   "execution_count": 8,
   "metadata": {},
   "outputs": [],
   "source": [
    "# Functions for modelling\n",
    "def vasicek_mean(r_t1,t1,t2):\n",
    "    return r_t1*np.exp(-alpha*(t2-t1)) + b*(1-np.exp(-alpha*(t2-t1)))\n",
    "\n",
    "def vasicek_var(t1,t2):\n",
    "    return (sigma**2/2*(alpha))*(1-np.exp(-2*alpha*(t2-t1)))"
   ]
  },
  {
   "cell_type": "code",
   "execution_count": 9,
   "metadata": {},
   "outputs": [
    {
     "data": {
      "text/plain": [
       "0.4609203790227106"
      ]
     },
     "execution_count": 9,
     "metadata": {},
     "output_type": "execute_result"
    }
   ],
   "source": [
    "# Analytical bond price functions \n",
    "def A_t_T(t1,t2):\n",
    "    return 1 - np.exp(-alpha*(t2-t1))\n",
    "\n",
    "def D_t_T(t1,t2):\n",
    "    val1 = (b-(sigma**2/2*alpha**2))*(A_t_T(t1,t2) -(t2-t1))\n",
    "    val2 = sigma**2*A_t_T(t1,t2)**2/(4*alpha)\n",
    "    return val1-val2\n",
    "    \n",
    "def bond_price(r_t,t,T):\n",
    "    return np.exp(-A_t_T(t,T)*r_t + D_t_T(t,T))\n",
    "\n",
    "closed_form_price = bond_price(0.05,0,num_years)\n",
    "closed_form_price"
   ]
  },
  {
   "cell_type": "code",
   "execution_count": 10,
   "metadata": {},
   "outputs": [],
   "source": [
    "# Estimating bond price by jointly simulating short rate r_t and value Integral[0,t][r_s ds] = Y_t\n",
    "# Since r_t is Gaussian and Y_t is Gaussian r_t and Y_t have joint Guassian distribution\n",
    "# We simulate the above using the value of their means, variances and correlation"
   ]
  },
  {
   "cell_type": "code",
   "execution_count": 12,
   "metadata": {},
   "outputs": [],
   "source": [
    "# Functions for means, variances and correlations\n",
    "# Y_mean_t2 calcutes mean Y_t2 given Y_t1\n",
    "# Y_var_t2 calculates the variance of Y_t2 from time t1<t2\n",
    "# rY_var   calculates the covariance between Y_t2 and r_t2\n",
    "# rY_rho   calculates the correlation from above covariance\n",
    "\n",
    "def Y_mean_t2(Y_t, r_t1, t1, t2):\n",
    "    return Y_t1 + (t2-t1)*b + (r-b)*A_t_T(t1,t2)\n",
    "\n",
    "def Y_var_t2(t1,t2):\n",
    "    return sigma**2 * (t2-t1 - A_t_T(t1,t2) - alpha*A_t_T(t1,t2)**2/2)/alpha**2\n",
    "\n",
    "def rY_var(t1,t2):\n",
    "    return sigma**2*A_t_T(t1,t2)**2/2*alpha\n",
    "\n",
    "def rY_rho(t1,t2):\n",
    "    return rY_var(t1,t2)/np.sqrt(vasi_var(t1,t2)*Y_var_t2(t1,t2))"
   ]
  },
  {
   "cell_type": "code",
   "execution_count": null,
   "metadata": {},
   "outputs": [],
   "source": [
    "# Implementation of simulations\n",
    "Y_0 = 0\n",
    "np.random.seed(0)\n",
    "\n"
   ]
  }
 ],
 "metadata": {
  "kernelspec": {
   "display_name": "Python 3",
   "language": "python",
   "name": "python3"
  },
  "language_info": {
   "codemirror_mode": {
    "name": "ipython",
    "version": 3
   },
   "file_extension": ".py",
   "mimetype": "text/x-python",
   "name": "python",
   "nbconvert_exporter": "python",
   "pygments_lexer": "ipython3",
   "version": "3.7.3"
  }
 },
 "nbformat": 4,
 "nbformat_minor": 2
}
