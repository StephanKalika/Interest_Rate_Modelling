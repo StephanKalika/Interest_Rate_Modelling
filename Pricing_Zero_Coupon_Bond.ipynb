{
 "cells": [
  {
   "cell_type": "code",
   "execution_count": 3,
   "metadata": {},
   "outputs": [],
   "source": [
    "# Vasicek Model - a special case of Hull White Model\n",
    "# r_t = r_0exp(-alpha*t) + sigmaexp(-alpha*t)Integral[0:t][exp(-alpha*s) dWs]\n",
    "# Given we know r_t1; r_t2 ~ N(r_t1*exp(-alpha(t2-t1)) + b(1-exp(-alpha(t2-t1))), sigma**2/2*alpha * (1-exp(-2*alpha*(t2-t1))))\n",
    "# Above is due to independant increments of Brownina motion\n",
    "# Advantage  - has closed form solution\n",
    "# Disadvantage Vasicek model -short rates can become negative"
   ]
  },
  {
   "cell_type": "code",
   "execution_count": 4,
   "metadata": {},
   "outputs": [],
   "source": [
    "# Bond price under close form Vasicek Model is \n",
    "# B(t,T)  = exp(-A(t,T) + D(t,T))\n",
    "# A(t,T)  = 1-exp(-alpha*(T-t))\n",
    "# D(t,T)  = (b- sigma**2/2*alpha**2) [A(t,T) - (T-t)] - sigma**2*A(t,T)**2/4*alpha"
   ]
  },
  {
   "cell_type": "code",
   "execution_count": 5,
   "metadata": {},
   "outputs": [],
   "source": [
    "# Import modules \n",
    "import math\n",
    "import numpy as np\n",
    "from scipy.stats import norm\n",
    "import scipy.integrate as integrate\n",
    "import matplotlib.pyplot as plt"
   ]
  },
  {
   "cell_type": "code",
   "execution_count": 6,
   "metadata": {},
   "outputs": [],
   "source": [
    "# Market, option,interest rate information and dynamics\n",
    "r_0   = 0.05   # initial r(0) starting/known interest rate \n",
    "alpha = 0.2    # rate at which short rate tends toward long-term average\n",
    "b     = 0.08   # long-term average short rate\n",
    "sigma = 0.025  # volatility of short rate\n",
    "\n",
    "# Monte Carlo Simulation dynamics\n",
    "num_years       = 10 \n",
    "num_simulations = 100000\n",
    "t               = np.array(range(0,num_years+1))"
   ]
  },
  {
   "cell_type": "code",
   "execution_count": 7,
   "metadata": {},
   "outputs": [],
   "source": [
    "# Functions for modelling\n",
    "def vasicek_mean(r_t1,t1,t2):\n",
    "    return r_t1*np.exp(-alpha*(t2-t1)) + b*(1-np.exp(-alpha*(t2-t1)))\n",
    "\n",
    "def vasicek_var(t1,t2):\n",
    "    return (sigma**2/2*(alpha))*(1-np.exp(-2*alpha*(t2-t1)))"
   ]
  },
  {
   "cell_type": "code",
   "execution_count": 59,
   "metadata": {},
   "outputs": [
    {
     "data": {
      "text/plain": [
       "array([1.        , 0.92813567, 0.86055854, 0.79724637, 0.7381017 ,\n",
       "       0.6829771 , 0.63169344, 0.58405316, 0.5398497 , 0.49887425,\n",
       "       0.46092038])"
      ]
     },
     "execution_count": 59,
     "metadata": {},
     "output_type": "execute_result"
    }
   ],
   "source": [
    "#1. Analytical bond price functions based off closed form Vasicek model\n",
    "def A_t_T(t1,t2):\n",
    "    return 1 - np.exp(-alpha*(t2-t1))\n",
    "\n",
    "def D_t_T(t1,t2):\n",
    "    val1 = (b-(sigma**2/2*alpha**2))*(A_t_T(t1,t2) -(t2-t1))\n",
    "    val2 = sigma**2*A_t_T(t1,t2)**2/(4*alpha)\n",
    "    return val1-val2\n",
    "    \n",
    "def bond_price(r_t,t,T):\n",
    "    return np.exp(-A_t_T(t,T)*r_t + D_t_T(t,T))\n",
    "\n",
    "closed_form_price = bond_price(0.05,0,t)\n",
    "closed_form_price"
   ]
  },
  {
   "cell_type": "code",
   "execution_count": 9,
   "metadata": {},
   "outputs": [],
   "source": [
    "# Estimating bond price by jointly simulating short rate r_t and value Integral[0,t][r_s ds] = Y_t\n",
    "# Since r_t is Gaussian and Y_t is Gaussian r_t and Y_t have joint Guassian distribution\n",
    "# We simulate the above using the value of their means, variances and correlation"
   ]
  },
  {
   "cell_type": "code",
   "execution_count": 29,
   "metadata": {},
   "outputs": [],
   "source": [
    "# Functions for means, variances and correlations\n",
    "# Y_mean_t2 calcutes mean Y_t2 given Y_t1\n",
    "# Y_var_t2 calculates the variance of Y_t2 from time t1<t2\n",
    "# rY_var   calculates the covariance between Y_t2 and r_t2\n",
    "# rY_rho   calculates the correlation from above covariance\n",
    "\n",
    "def Y_mean_t2(Y_t1, r_t1, t1, t2):\n",
    "    return Y_t1 + (t2-t1)*b + (r_t1-b)*A_t_T(t1,t2)\n",
    "\n",
    "def Y_var_t2(t1,t2):\n",
    "    return sigma**2 * (t2-t1 - A_t_T(t1,t2) - alpha*A_t_T(t1,t2)**2/2)/alpha**2\n",
    "\n",
    "def rY_var(t1,t2):\n",
    "    return sigma**2*A_t_T(t1,t2)**2/2\n",
    "\n",
    "def rY_rho(t1,t2):\n",
    "    return rY_var(t1,t2)/np.sqrt(vasicek_var(t1,t2)*Y_var_t2(t1,t2))"
   ]
  },
  {
   "cell_type": "code",
   "execution_count": 34,
   "metadata": {},
   "outputs": [
    {
     "data": {
      "text/plain": [
       "array([1.        , 0.93442602, 0.87174026, 0.81234737, 0.75662461,\n",
       "       0.70449628, 0.65566553, 0.61039087, 0.56800673, 0.52798333,\n",
       "       0.49097363])"
      ]
     },
     "execution_count": 34,
     "metadata": {},
     "output_type": "execute_result"
    }
   ],
   "source": [
    "#2. Simlulation using Monte Carlo with Intergral[0:t][r_s ds]\n",
    "# Implementation of simulations\n",
    "# We jointly simulate r_t and Intergral[0:t][r_s ds] taking into accunt their variances, covariances\n",
    "\n",
    "Y_0 = 0\n",
    "np.random.seed(0)\n",
    "Z1   = norm.rvs(size = [num_simulations,num_years])\n",
    "Z2   = norm.rvs(size = [num_simulations,num_years])\n",
    "r_sim = np.zeros([num_simulations, num_years+1])   # various simulation paths for r_t\n",
    "Y_sim = np.zeros([num_simulations, num_years+1])   # various simulation paths for Y_t\n",
    "\n",
    "r_sim[:,0] = r_0   \n",
    "Y_sim[:,0] = Y_0\n",
    "\n",
    "correlations    = rY_rho(t[0:-1],t[1:])   #various correlations at t_i+1, t_i\n",
    "Z2              =  correlations*Z1 + np.sqrt(1-correlations**2)*Z2\n",
    "\n",
    "for i in range(num_years):\n",
    "    r_sim[:,i+1] = vasicek_mean(r_sim[:,i], t[i],t[i+1]) + np.sqrt(vasicek_var(t[i],t[i+1]))*Z1[:,i]\n",
    "    Y_sim[:,i+1] = Y_mean_t2(Y_sim[:,i],r_sim[:,i],t[i],t[i+1]) + np.sqrt(Y_var_t2(t[i],t[i+1]))*Z2[:,i]\n",
    "    \n",
    "ZCB_prices = np.mean(np.exp(-Y_sim), axis = 0)\n",
    "ZCB_prices"
   ]
  },
  {
   "cell_type": "code",
   "execution_count": 57,
   "metadata": {},
   "outputs": [
    {
     "data": {
      "text/plain": [
       "array([], shape=(0, 10), dtype=float64)"
      ]
     },
     "execution_count": 57,
     "metadata": {},
     "output_type": "execute_result"
    }
   ],
   "source": [
    "#.3 Simulating using Quadrature by estimating value Intergral[0:t][r_s ds] as Sum[0;n-1][r_t_i * delta_i]\n",
    "r_mat_1 = np.cumsum(r_sim[:0,0:-1], axis = 1)*(t[1:]-t[0:-1])\n",
    "\n",
    "ZCB_prices_quad1 = np.ones(num_years+1)\n",
    "ZCB_prices_quad1[1:] = np.mean(np.exp(-r_mat_1), axis = 0)"
   ]
  },
  {
   "cell_type": "code",
   "execution_count": 58,
   "metadata": {},
   "outputs": [],
   "source": [
    "#.4 Simulating using Quadrature by estimating value Intergral[0:t][r_s ds] as Sum[0;n-1][(r_t_i+r_t_i+1)/2 * delta_i]\n",
    "#r_mat_2 = np.cumsum(r_sim[:0,0:-1] + r_sim[:,1:], axis = 1) /2 *(t[1:]-t[0:-1])\n",
    "r_mat_2 = np.cumsum(r_sim[:0,0:-1], axis = 1)*(t[1:]-t[0:-1])\n",
    "\n",
    "ZCB_prices_quad2 = np.ones(num_years+1)\n",
    "ZCB_prices_quad2[1:] = np.mean(np.exp(-r_mat_1), axis = 0)"
   ]
  },
  {
   "cell_type": "code",
   "execution_count": 61,
   "metadata": {},
   "outputs": [
    {
     "data": {
      "image/png": "[encoded data removed]",
      "text/plain": [
       "<Figure size 432x288 with 1 Axes>"
      ]
     },
     "metadata": {
      "needs_background": "light"
     },
     "output_type": "display_data"
    }
   ],
   "source": [
    "# Plot of results \n",
    "plt.plot(t,closed_form_price)\n",
    "plt.plot(t,ZCB_prices,'.')\n",
    "#plt.plot(t,ZCB_prices_quad1,'x')\n",
    "#plt.plot(t,ZCB_prices_quad2,'*')\n",
    "plt.xlabel(\"Term in years\")\n",
    "plt.ylabel(\"Zero Coupon Bond Price\")\n",
    "plt.show()\n"
   ]
  },
  {
   "cell_type": "code",
   "execution_count": null,
   "metadata": {},
   "outputs": [],
   "source": []
  }
 ],
 "metadata": {
  "kernelspec": {
   "display_name": "Python 3",
   "language": "python",
   "name": "python3"
  },
  "language_info": {
   "codemirror_mode": {
    "name": "ipython",
    "version": 3
   },
   "file_extension": ".py",
   "mimetype": "text/x-python",
   "name": "python",
   "nbconvert_exporter": "python",
   "pygments_lexer": "ipython3",
   "version": "3.7.3"
  }
 },
 "nbformat": 4,
 "nbformat_minor": 2
}
