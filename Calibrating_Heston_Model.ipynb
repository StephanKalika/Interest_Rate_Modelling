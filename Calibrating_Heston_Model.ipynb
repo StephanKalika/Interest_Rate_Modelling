{
 "cells": [
  {
   "cell_type": "code",
   "execution_count": 14,
   "metadata": {},
   "outputs": [],
   "source": [
    "# Fourier, Characteritic function, clabiration of Heston model"
   ]
  },
  {
   "cell_type": "code",
   "execution_count": 35,
   "metadata": {},
   "outputs": [],
   "source": [
    "# Import modules \n",
    "import math\n",
    "import numpy as np\n",
    "from scipy.stats import norm\n",
    "import scipy.optimize as optimize\n",
    "import matplotlib.pyplot as plt"
   ]
  },
  {
   "cell_type": "code",
   "execution_count": 36,
   "metadata": {},
   "outputs": [],
   "source": [
    "# Market information, parameters, we want to find values for kappa, theta, rho...?\n",
    "# Market, option,share dynamics and information\n",
    "r     = 0.06 # continously compounded risk free rate\n",
    "S_0   = 100  # initial stock price\n",
    "\n",
    "# Stochastic volatility parameters\n",
    "v_0   = 0.06\n",
    "#kappa = None, values must be estimated\n",
    "#theta = None, values must be estimated\n",
    "#sigma = None, value must be estimated\n",
    "rho   = -0.4\n",
    "\n",
    "# Market option specific information\n",
    "K     = np.array([110,100,90])  # Strike price of call option\n",
    "price = [8.02,12.63,18.72]\n",
    "k_log = np.log(K)\n",
    "k_log.shape = (3,1)\n",
    "T     = 1   # Time until maturity \n",
    "\n",
    "#Approximation information\n",
    "# Initialisin and calculating parameters for estimation t_max, N, t_delta for Gil Pelaez\n",
    "t_max    = 30\n",
    "N        = 100\n",
    "delta_t  = t_max/N\n",
    "# The array of various t_k points\n",
    "from_1_N = np.linspace(1,N,N)\n",
    "t_k      = (from_1_N-1/2)*delta_t  "
   ]
  },
  {
   "cell_type": "code",
   "execution_count": 40,
   "metadata": {},
   "outputs": [],
   "source": [
    "# Characteristic function code\n",
    "# Characteristic functon of sT = log(ST) => exp(C(T;u) + D(T,u)*v_t + iu*log(S_t))  # i complex number\n",
    "# C(T,u) = riTu + theta*x[Tx - 1/a*log(1-gexp(d*r)/1-g)]\n",
    "# D(T,u) = [(1-exp(d*r))/1-gexp(d*r)]*x_\n",
    "#  x_    = b-d/2a\n",
    "# x+     = b+d/2a\n",
    "# c      = (-u**2+ui)/2\n",
    "# g      = x_/x+\n",
    "# d      = sqrt(b**2-4ac)\n",
    "# b      = kappa - rho*sigma*i*u\n",
    "# a      = sigma**2/2\n",
    "\n",
    "def a(sigma):\n",
    "    return sigma**2/2\n",
    "\n",
    "def b(u, theta, kappa, sigma):\n",
    "    return kappa - rho*sigma*1j*u\n",
    "\n",
    "def c(u, theta, kappa, sigma):\n",
    "    return -(u**2 + u*1j)/2\n",
    "\n",
    "def d(u, theta, kappa, sigma):\n",
    "    return np.sqrt(b(u,theta,kappa,sigma)**2 - 4*a(sigma)*c(u, theta, kappa, sigma))\n",
    "\n",
    "def x_minus(u, theta, kappa, sigma):\n",
    "    return (b(u, theta, kappa, sigma)-d(u, theta, kappa, sigma))/(2*a(sigma))\n",
    "\n",
    "def x_plus(u, theta, kappa, sigma):\n",
    "    return (b(u,theta, kappa, sigma)+d(u, theta, kappa, sigma))/(2*a(sigma))\n",
    "\n",
    "def g(u, theta, kappa, sigma):\n",
    "    return x_minus(u,theta, kappa, sigma)/x_plus(u, theta, kappa, sigma)\n",
    "\n",
    "def C(u, theta, kappa, sigma):\n",
    "    value = T*x_minus(u,theta, kappa, sigma) - np.log((1-g(u,theta,kappa,sigma)*np.exp(d(u,theta,kappa,sigma)*-T))/(1-g(u,theta,kappa,sigma)))/a(sigma)\n",
    "    return r*1j*T*u + theta*kappa*value\n",
    "\n",
    "def D(u, theta, kappa, sigma):\n",
    "    value1 = 1-np.exp(d(u,theta,kappa,sigma)*-T)\n",
    "    value2 = 1-g(u,theta,kappa,sigma)*np.exp(d(u,theta,kappa,sigma)*-T)\n",
    "    return (value1/value2)*x_minus(u,theta,kappa,sigma)\n",
    "\n",
    "def log_char(u, theta, kappa,sigma):  #char_M1\n",
    "    return np.exp(C(u,theta,kappa,sigma) + D(u,theta,kappa,sigma)*v_0 + 1j*u*np.log(S_0))\n",
    "    \n",
    "# Change of measure, converting charactersitic function directly instead of direct change of measure\n",
    "# Risk neutral measure under Q_S so we can apply Gil Pelaez\n",
    "# char_S(u) = char(u-i) / char(-i)\n",
    "    \n",
    "def adj_char(u, theta, kappa, sigma):    #char_M2\n",
    "    return log_char(u-1j,theta,kappa,sigma) / log_char(-1j, theta, kappa, sigma)   "
   ]
  },
  {
   "cell_type": "code",
   "execution_count": 48,
   "metadata": {},
   "outputs": [],
   "source": [
    "# Calibration functions\n",
    "def heston_pricer(array_estimates):\n",
    "    theta = array_estimates[0]\n",
    "    kappa    = array_estimates[1]\n",
    "    sigma = array_estimates[2]\n",
    "    first_intergral   = np.sum((((np.exp(-1j*t_k*k_log))*adj_char(t_k,theta,kappa,sigma)).imag/t_k)*delta_t,axis=1)\n",
    "    second_intergral  = np.sum((((np.exp(-1j*t_k*k_log))*log_char(t_k,theta,kappa,sigma)).imag/t_k)*delta_t,axis=1)\n",
    "    return S_0*(1/2 + first_intergral/np.pi) - np.exp(-r*T)*K*(1/2 + second_intergral/np.pi)\n",
    "\n",
    "\n",
    "def optimizer(array_estimates):    \n",
    "    return  sum(np.abs(price- heston_pricer(array_estimates)))"
   ]
  },
  {
   "cell_type": "code",
   "execution_count": 49,
   "metadata": {},
   "outputs": [
    {
     "name": "stderr",
     "output_type": "stream",
     "text": [
      "C:\\Users\\Zed\\Anaconda3\\lib\\site-packages\\ipykernel_launcher.py:44: RuntimeWarning: overflow encountered in exp\n",
      "C:\\Users\\Zed\\Anaconda3\\lib\\site-packages\\ipykernel_launcher.py:51: RuntimeWarning: invalid value encountered in true_divide\n",
      "C:\\Users\\Zed\\Anaconda3\\lib\\site-packages\\ipykernel_launcher.py:7: RuntimeWarning: invalid value encountered in multiply\n",
      "  import sys\n",
      "C:\\Users\\Zed\\Anaconda3\\lib\\site-packages\\numpy\\core\\fromnumeric.py:86: RuntimeWarning: invalid value encountered in reduce\n",
      "  return ufunc.reduce(obj, axis, dtype, out, **passkwargs)\n"
     ]
    },
    {
     "name": "stdout",
     "output_type": "stream",
     "text": [
      "Optimization terminated successfully.    (Exit mode 0)\n",
      "            Current function value: 0.0024517836240907087\n",
      "            Iterations: 18\n",
      "            Function evaluations: 144\n",
      "            Gradient evaluations: 18\n"
     ]
    },
    {
     "name": "stderr",
     "output_type": "stream",
     "text": [
      "C:\\Users\\Zed\\Anaconda3\\lib\\site-packages\\ipykernel_launcher.py:32: RuntimeWarning: divide by zero encountered in cdouble_scalars\n",
      "C:\\Users\\Zed\\Anaconda3\\lib\\site-packages\\ipykernel_launcher.py:32: RuntimeWarning: invalid value encountered in cdouble_scalars\n",
      "C:\\Users\\Zed\\Anaconda3\\lib\\site-packages\\ipykernel_launcher.py:35: RuntimeWarning: invalid value encountered in cdouble_scalars\n",
      "C:\\Users\\Zed\\Anaconda3\\lib\\site-packages\\ipykernel_launcher.py:35: RuntimeWarning: invalid value encountered in log\n",
      "C:\\Users\\Zed\\Anaconda3\\lib\\site-packages\\ipykernel_launcher.py:40: RuntimeWarning: invalid value encountered in cdouble_scalars\n",
      "C:\\Users\\Zed\\Anaconda3\\lib\\site-packages\\ipykernel_launcher.py:41: RuntimeWarning: invalid value encountered in cdouble_scalars\n"
     ]
    }
   ],
   "source": [
    "# Find optimal values using initial estimates\n",
    "optimal_values = optimize.fmin_slsqp(optimizer,(0.1,3,0.1))"
   ]
  },
  {
   "cell_type": "code",
   "execution_count": 51,
   "metadata": {},
   "outputs": [
    {
     "data": {
      "text/plain": [
       "array([0.05988376, 3.07129354, 0.25690196])"
      ]
     },
     "execution_count": 51,
     "metadata": {},
     "output_type": "execute_result"
    }
   ],
   "source": [
    "optimal_values"
   ]
  },
  {
   "cell_type": "code",
   "execution_count": null,
   "metadata": {},
   "outputs": [],
   "source": []
  }
 ],
 "metadata": {
  "kernelspec": {
   "display_name": "Python 3",
   "language": "python",
   "name": "python3"
  },
  "language_info": {
   "codemirror_mode": {
    "name": "ipython",
    "version": 3
   },
   "file_extension": ".py",
   "mimetype": "text/x-python",
   "name": "python",
   "nbconvert_exporter": "python",
   "pygments_lexer": "ipython3",
   "version": "3.7.3"
  }
 },
 "nbformat": 4,
 "nbformat_minor": 2
}
