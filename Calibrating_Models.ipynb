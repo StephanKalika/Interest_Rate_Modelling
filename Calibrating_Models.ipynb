{
 "cells": [
  {
   "cell_type": "code",
   "execution_count": 5,
   "metadata": {},
   "outputs": [],
   "source": [
    "# Import modules \n",
    "import math\n",
    "import numpy as np\n",
    "from scipy.stats import norm\n",
    "import scipy.optimize as optimize\n",
    "import matplotlib.pyplot as plt"
   ]
  },
  {
   "cell_type": "code",
   "execution_count": 6,
   "metadata": {},
   "outputs": [],
   "source": [
    "# Market, option,share dynamics and information\n",
    "r     = 0.10 # continously compounded risk free rate\n",
    "S_0   = 100  # initial stock price\n",
    "K     = 110  # Strike price of call option\n",
    "T     = 2    # Time until maturity \n",
    "\n",
    "#Existing priced call option we can use to calibrate and obtain unknown sigma value\n",
    "KC    = 95 # strike price call \n",
    "TC    = 1  # term of call option\n",
    "price = 15 # market price call option"
   ]
  },
  {
   "cell_type": "code",
   "execution_count": 42,
   "metadata": {},
   "outputs": [],
   "source": [
    "# Functions for option pricing \n",
    "def d1_c(sigma):\n",
    "    return ((np.log(S_0/KC) + (r+sigma**2/2)*TC))/sigma*np.sqrt(TC)\n",
    "\n",
    "def d2_c(sigma):\n",
    "    return d1_c(sigma) - sigma*np.sqrt(TC)\n",
    "\n",
    "def call_price(sigma):\n",
    "    return S_0*norm.cdf(d1_c(sigma)) - norm.cdf(d2_c(sigma))*KC*np.exp(-r*TC)\n",
    "\n",
    "def F_sigma(sigma): # we need to minimize actuall price vs estimated price from estimate sigma which is iteratively improved\n",
    "    return call_price(sigma) - price"
   ]
  },
  {
   "cell_type": "code",
   "execution_count": 44,
   "metadata": {},
   "outputs": [
    {
     "data": {
      "text/plain": [
       "array(0.14172599)"
      ]
     },
     "execution_count": 44,
     "metadata": {},
     "output_type": "execute_result"
    }
   ],
   "source": [
    "# Solving for sigma using an optimization\n",
    "sigma = optimize.broyden1(F_sigma,0.2)  #ref to function to optimize and initial guess\n",
    "sigma "
   ]
  },
  {
   "cell_type": "code",
   "execution_count": 48,
   "metadata": {},
   "outputs": [
    {
     "data": {
      "text/plain": [
       "2.682159104840391"
      ]
     },
     "execution_count": 48,
     "metadata": {},
     "output_type": "execute_result"
    }
   ],
   "source": [
    "# Applying derived sigma to price put option\n",
    "def d1_p(sigma):\n",
    "    return ((np.log(S_0/K) + (r+sigma**2/2)*T))/sigma*np.sqrt(T)\n",
    "def d2_p(sigma):\n",
    "    return d1_p(sigma) - sigma*np.sqrt(T)\n",
    "put_price = norm.cdf(-d2_p(sigma))*K*np.exp(-r*T) - S_0*norm.cdf(-d1_p(sigma))\n",
    "put_price"
   ]
  }
 ],
 "metadata": {
  "kernelspec": {
   "display_name": "Python 3",
   "language": "python",
   "name": "python3"
  },
  "language_info": {
   "codemirror_mode": {
    "name": "ipython",
    "version": 3
   },
   "file_extension": ".py",
   "mimetype": "text/x-python",
   "name": "python",
   "nbconvert_exporter": "python",
   "pygments_lexer": "ipython3",
   "version": "3.7.3"
  }
 },
 "nbformat": 4,
 "nbformat_minor": 2
}
