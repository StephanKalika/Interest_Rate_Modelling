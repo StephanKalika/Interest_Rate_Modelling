{
 "cells": [
  {
   "cell_type": "code",
   "execution_count": 397,
   "metadata": {},
   "outputs": [],
   "source": [
    "# Monte Carlo valuation of European Barrier Option under local volatility and LIBOR Forward Market Model \n",
    "\n",
    "# Barrier Option type is knock-out option/up and out \n",
    "# This option ceases to exist when price exceeds a barrier level L\n",
    "# The value of call option goes to 0 when S_t > L between 0 and T(maturity)\n",
    "#1. Pricing of Barrier option under no default risk\n",
    "#2. Pricing of Barrier option under defualt risk"
   ]
  },
  {
   "cell_type": "code",
   "execution_count": 398,
   "metadata": {},
   "outputs": [],
   "source": [
    "# Import modules\n",
    "import random\n",
    "import numpy as np\n",
    "from scipy.stats import norm\n",
    "from scipy.stats import ncx2 \n",
    "import scipy.optimize as optimize\n",
    "import matplotlib.pyplot as plt\n",
    "import matplotlib.pyplot as plt\n",
    "np.random.seed(0)"
   ]
  },
  {
   "cell_type": "code",
   "execution_count": 399,
   "metadata": {},
   "outputs": [],
   "source": [
    "# 1. - Parameters - Initial Values, Market and modelling values and dynamics\n",
    "\n",
    "# Dynamics of market, share and European-up-and-out call option\n",
    "S_0                       = 100                                    # inital price of share price\n",
    "K                         = 100                                    # strike price -option struck at the money\n",
    "L                         = 150                                    # up and out barrier level\n",
    "T                         = 1                                      # time to maturity of option 1 year\n",
    "r                         = 0.08                                   # continously compounded risk free rate\n",
    "sigma_share               = 0.3                                    # the initial/known volatility of share \n",
    "\n",
    "\n",
    "# Counterparty firms dynamics\n",
    "\n",
    "V_0                       = 200                                    # initial firm value\n",
    "D                         = 175                                    # firm debt due in 1 year\n",
    "sigma_firm                = 0.3                                    # the initial/known volatility of firm value \n",
    "r_r                       = 0.25                                   # the recovery rate with counterparty\n",
    "\n",
    "# Correlations share and firm \n",
    "corr                      = 0.2                                    # correlation between firm value and share price\n",
    "corr_matrix               = np.array([[1,corr],[corr,1]])          # correlation matrix stock and firm\n",
    "\n",
    "# Constant Elasticity Volatility Model\n",
    "gamma                     = 0.75\n",
    "\n",
    "# Zero Coupon Bond Market Prices\n",
    "ZCB_bond_prices         = np.array([100, 99.38,98.76,98.15,97.54,96.94,96.34,95.74,95.16,94.57,93.99,93.42,92.85])\n",
    "\n",
    "# Monte Carlo Simulation dynamics\n",
    "num_simulations           = 100000                                 #  number simulations\n",
    "np.random.seed(0)\n",
    "dT                        = 1/12                                   # monthly time period\n",
    "paths                     = int(1/dT)                              # price observation points between (0,T]\n",
    "t                         = np.linspace(1,paths+1,paths+1)         # monthly time period paths\n",
    "T                         = t[1:]-t[0:-1]                          # (t_i+1 - t_i)"
   ]
  },
  {
   "cell_type": "code",
   "execution_count": 400,
   "metadata": {},
   "outputs": [],
   "source": [
    "# 2 - Functions for share price path\n",
    "# Share prices paths follow Geometric Brownian motion of the form below so we can simulate next share price in price path using\n",
    "  # S_t_i+1 = S_t_i*exp((r_t_i - sigma_share(t_i,t_i+1)**2/2)*(t_i+1-t_i) + sigma_share(t_i,t_i+1)*sqrt(t_i+1-t_i)*Z\n",
    "  # where Z is standard normal distribution Z~N(0,1)\n",
    "\n",
    "def next_share_price(S_curr,r_curr, sigma_share_curr, Z_curr,T):\n",
    "    \"\"\"  \n",
    "    takes current stock price, current stock volatility, current interest rate, Z random aspect..\n",
    "    ..returns next projected/next stock price based on initial stock price on geometric brownian motion \n",
    "    \"\"\"\n",
    "    return S_curr*(np.exp((r_curr-sigma_share_curr**2/2)*T + sigma_share_curr*np.sqrt(T)*Z_curr))"
   ]
  },
  {
   "cell_type": "code",
   "execution_count": 401,
   "metadata": {},
   "outputs": [],
   "source": [
    "# 3 - Functions for firm value paths\n",
    "# Counterparty value paths follow Geometric Brownian motion of the form so we can simulate final or intermediate firm value \n",
    "  # V_t_i+1 = V_t_i*exp((r_t_i - sigma_firm(t_i,t_i+1)**2/2)*(t_i+1-t_i) + sigma_firm(t_i,t_i+1)*sqrt(t_i+1-t_i)*Z\n",
    "  # where Z is standard normal distribution Z~N(0,1)\n",
    "  # Assume defualt only occurs at maturity \n",
    "    \n",
    "def next_firm_value(V_curr,r_curr, sigma_firm_curr, Z_curr,T):\n",
    "    \"\"\"  \n",
    "    takes current firm value, current firm volatility, current interest rate, Z random aspect..\n",
    "    ..returns next projected/next firm value based on initial stock price on geometric brownian motion \n",
    "    \"\"\"\n",
    "    return V_curr*(np.exp((r_curr-sigma_firm_curr**2/2)*T + sigma_firm_curr*np.sqrt(T)*Z_curr))"
   ]
  },
  {
   "cell_type": "code",
   "execution_count": 402,
   "metadata": {},
   "outputs": [],
   "source": [
    "# 4 - Functions for local volatility share price\n",
    "# Local volatility model for stock has function \n",
    "  # sigma_share(t_i,t_i+1)  = sigma_share*S_t_i**(gamma-1)  where sigma_share = 0.3\n",
    "    \n",
    "def next_share_volatility(sigma_share_curr,S_curr,gamma):\n",
    "    \"\"\"  \n",
    "    takes initial stock volatility, current share price, gamma\n",
    "    ..returns next projected/next stock volatility\n",
    "    \"\"\"\n",
    "    return sigma_share_curr*S_curr**(gamma-1)"
   ]
  },
  {
   "cell_type": "code",
   "execution_count": 403,
   "metadata": {},
   "outputs": [],
   "source": [
    "# 5 - Functions for local volatility firm value\n",
    "# Local volatility model for counterparty has function \n",
    "  # sigma_firm(t_i,t_i+1)  = sigma_firm*S_t_i**(gamma-1)    where sigma_firm  = 0.3\n",
    "    \n",
    "def next_firm_volatility(sigma_firm_curr,V_curr,gamma):\n",
    "    \"\"\"  \n",
    "    takes initial firm volatility, current firm price, gamma\n",
    "    ..returns next projected/next firm volatility\n",
    "    \"\"\"\n",
    "    return sigma_firm_curr*V_curr**(gamma-1)"
   ]
  },
  {
   "cell_type": "code",
   "execution_count": 404,
   "metadata": {},
   "outputs": [],
   "source": [
    "# 6 - Functions discounted payoff European barrier option\n",
    "\n",
    "def discounted_option_payoff(share_paths,r_paths,K,L,T_paths):   \n",
    "    \"\"\"\n",
    "    takes paths of share (monthly samples) over life of share \n",
    "    returns 0 if share price rises above L(barrier) during life of option\n",
    "    returns normall discounted call payoff at maturity if share price never exceed barrier value\n",
    "    \"\"\"  \n",
    "    discounted_payoffs = [None]*num_simulations\n",
    "   \n",
    "    for i in range(num_simulations):\n",
    "        if(np.any(share_paths[i] > L)):\n",
    "            discounted_payoffs[i] = 0\n",
    "        else:\n",
    "            discounted_payoffs[i] = np.maximum((share_paths[i][-1])-K,0)*np.exp(-(r_paths[i][-1])*T[0])\n",
    "    return discounted_payoffs   "
   ]
  },
  {
   "cell_type": "code",
   "execution_count": 419,
   "metadata": {},
   "outputs": [],
   "source": [
    "# 7 - Credit Valuation Adjustment Functions based on Merton Model\n",
    "def credit_value_adjustment(r_paths,r_r,terminal_value_firm,D,call_value):\n",
    "    \"\"\"\n",
    "    takes terminal interest rate, recovery rate, terminal firm value, firm debt due at time T, call_values\n",
    "    \"\"\"\n",
    "    credit_value_adjustments = [None]*num_simulations\n",
    "    \n",
    "    for i in range(num_simulations):\n",
    "        credit_value_adjustments[i] = np.exp(-(r_paths[i][-1])*T[0])*(1-r_r)*((terminal_value_firm[i][-1]) < D)*call_value   \n",
    "   \n",
    "    return credit_value_adjustments"
   ]
  },
  {
   "cell_type": "code",
   "execution_count": 420,
   "metadata": {},
   "outputs": [],
   "source": [
    "# This needs to be corrected and revised \n",
    "#...............................................\n",
    "# Need to do some calibration here\n",
    "# 8 - Functions interest rate modelling (makes use of LIBOR Forward Market Model)\n",
    "# LIBOR Rates make use of LIBOR forward market model \n",
    "  # exp(r_t_i*(t_i+1-t_i)) = 1 + L(t_i,t_i+1)*(t_i+1-t_i)\n",
    "  # r_t_i  = np.log(1 + L(t_i,t_i+1)*(t_i+1-t_i))/(t_i+1-t-i)\n",
    "  # L(t_i,t_i+1) = \n",
    "  # LIBOR rates vs counterparty value and LIBOR rates vs stock prices are uncorrelated\n",
    "\n",
    "# Initialize Forward rates Fj from existing ZCB bond prices using Fj(t_0) = (Pj(0)-Pj+1(0)) / (delta_j*Pj+1(0)) delta_j = Tj+1 - Tj\n",
    "mc_forward                 = np.ones([num_simulations,paths])*((ZCB_bond_prices[:-1]-ZCB_bond_prices[1:])/(2*ZCB_bond_prices[1:]))\n",
    "\n",
    "def simulate_rates(libor_rate):\n",
    "    return np.log(1+ libor_rate)"
   ]
  },
  {
   "cell_type": "code",
   "execution_count": 421,
   "metadata": {},
   "outputs": [],
   "source": [
    "# 10 - Initialization of variables to be simulated\n",
    "\n",
    "# Sample paths\n",
    "r_sim                     = np.zeros([num_simulations, paths+1])   # various simulation paths for interest rates\n",
    "S_sim                     = np.zeros([num_simulations, paths+1])   # various simulation paths for stock prices\n",
    "V_sim                     = np.zeros([num_simulations, paths+1])   # various simulation paths for firm value\n",
    "sigma_share_sim           = np.zeros([num_simulations, paths+1])   # various simulation paths for stock volatility\n",
    "sigma_firm_sim            = np.zeros([num_simulations, paths+1])   # various simulation paths for firm volatility\n",
    "\n",
    "#Initial Values\n",
    "S_sim[:,0]                = S_0                                    # initial stock prices \n",
    "V_sim[:,0]                = V_0                                    # initial firm value\n",
    "sigma_firm_sim[:,0]       = 0.3*(S_0**(gamma-1))                   # initial firm volatility\n",
    "sigma_share_sim[:,0]      = 0.3*(V_0**(gamma-1))                   # initial firm volatility"
   ]
  },
  {
   "cell_type": "code",
   "execution_count": 422,
   "metadata": {},
   "outputs": [
    {
     "name": "stderr",
     "output_type": "stream",
     "text": [
      "C:\\Users\\Zed\\Anaconda3\\lib\\site-packages\\ipykernel_launcher.py:10: RuntimeWarning: divide by zero encountered in power\n",
      "  # Remove the CWD from sys.path while we load stuff.\n"
     ]
    },
    {
     "data": {
      "text/plain": [
       "(5.6312098529099135, 0.02075384303337478)"
      ]
     },
     "execution_count": 422,
     "metadata": {},
     "output_type": "execute_result"
    }
   ],
   "source": [
    "# 11 - Implementation of Monte Carlo Simulation to price option with no risk of default\n",
    "\n",
    "# Z random variables\n",
    "Z1                        = norm.rvs(size = [num_simulations,paths+1])\n",
    "\n",
    "for i in range(paths): \n",
    "    r_sim[:,i]            = simulate_rates(mc_forward[:,i])\n",
    "    S_sim[:,i+1]          = next_share_price(S_sim[:,i],r_sim[:,i], sigma_share_sim[:,i], Z1[:,i],T[i])\n",
    "    \n",
    "    sigma_share_sim[:,i+1]= next_share_volatility(sigma_share_sim[:,i],S_sim[:,i],gamma)\n",
    "    sigma_firm_sim[:,i+1] = next_firm_volatility(sigma_firm_sim[:,i],V_sim[:,i],gamma)\n",
    "\n",
    "# Valuation without risk of default\n",
    "discounted_payoffs        = discounted_option_payoff(S_sim,r_sim,K,L,T)   \n",
    "call_value_no_default     = np.mean(discounted_payoffs)\n",
    "std_no_default            = np.std(discounted_payoffs)/np.sqrt(num_simulations) \n",
    "(call_value_no_default,std_no_default)"
   ]
  },
  {
   "cell_type": "code",
   "execution_count": 426,
   "metadata": {},
   "outputs": [
    {
     "data": {
      "text/plain": [
       "5.4346480929373975"
      ]
     },
     "execution_count": 426,
     "metadata": {},
     "output_type": "execute_result"
    }
   ],
   "source": [
    "# 12 - Implementation of Monte Carlo Simulation to price option with risk of default\n",
    "\n",
    "# Take into account correlation between firm value and stock price \n",
    "Z1                        = norm.rvs(size = [num_simulations,paths+1])\n",
    "Z2                        = norm.rvs(size = [num_simulations,paths+1])\n",
    "Z2                        =  corr*Z1 + np.sqrt(1-corr**2)*Z2   #creating correlated standard normals\n",
    "\n",
    "for i in range(paths):  \n",
    "    r_sim[:,i+1]          = simulate_rates(mc_forward[:,i])\n",
    "    S_sim[:,i+1]          = next_share_price(S_sim[:,i],r_sim[:,i], sigma_share_sim[:,i], Z1[:,i],T[i])\n",
    "    \n",
    "    V_sim[:,i+1]          = next_firm_value(V_sim[:,i],r_sim[:,i], sigma_firm_sim[:,i], Z2[:,i],T[i])\n",
    "    sigma_share_sim[:,i+1]= next_share_volatility(sigma_share_sim[:,i],S_sim[:,i],gamma)\n",
    "    sigma_firm_sim[:,i+1] = next_firm_volatility(sigma_firm_sim[:,i],V_sim[:,i],gamma)\n",
    "\n",
    "# Valuation with risk of default\n",
    "discounted_payoffs        = discounted_option_payoff(S_sim,r_sim,K,L,T)   \n",
    "call_value                = np.mean(discounted_payoffs)\n",
    "amount_lost               = credit_value_adjustment(r_sim,r_r,V_sim,D,call_value)\n",
    "\n",
    "cva_estimates             = np.mean(amount_lost)\n",
    "std_estimates             = np.std(amount_lost)/np.sqrt(num_simulations)\n",
    "\n",
    "call_value_with_default        = value_no_default - cva_estimates\n",
    "call_value_with_default"
   ]
  }
 ],
 "metadata": {
  "kernelspec": {
   "display_name": "Python 3",
   "language": "python",
   "name": "python3"
  },
  "language_info": {
   "codemirror_mode": {
    "name": "ipython",
    "version": 3
   },
   "file_extension": ".py",
   "mimetype": "text/x-python",
   "name": "python",
   "nbconvert_exporter": "python",
   "pygments_lexer": "ipython3",
   "version": "3.7.3"
  }
 },
 "nbformat": 4,
 "nbformat_minor": 2
}
