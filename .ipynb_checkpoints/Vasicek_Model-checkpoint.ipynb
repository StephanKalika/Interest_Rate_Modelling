{
 "cells": [
  {
   "cell_type": "code",
   "execution_count": null,
   "metadata": {},
   "outputs": [],
   "source": [
    "# Vasicek Model \n",
    "# r_t = r_0exp(-alpha*t) + sigmaexp(-alpha*t)Integral[0:t][exp(-alpha*s) dWs]\n",
    "# "
   ]
  },
  {
   "cell_type": "code",
   "execution_count": 1,
   "metadata": {},
   "outputs": [],
   "source": [
    "# Import modules \n",
    "import math\n",
    "import numpy as np\n",
    "from scipy.stats import norm\n",
    "import scipy.integrate as integrate\n",
    "import matplotlib.pyplot as plt"
   ]
  },
  {
   "cell_type": "code",
   "execution_count": 4,
   "metadata": {},
   "outputs": [],
   "source": [
    "# Market, option,interest rate information and dynamics\n",
    "r_0   = 0.05   # initial r(0) starting/known interest rate \n",
    "alpha = 0.2    # rate at which short rate tends toward long-term average\n",
    "b     = 0.08   # long-term average short rate\n",
    "sigma = 0.025  # volatility of short rate\n",
    "\n",
    "# Monte Carlo Simulation dynamics\n",
    "num_years       = 10 \n",
    "num_simulations = 10\n",
    "t               = np.array(range(0,num_years+1))"
   ]
  },
  {
   "cell_type": "code",
   "execution_count": 2,
   "metadata": {},
   "outputs": [],
   "source": [
    "# Functions for modelling\n",
    "def vasicek_mean(r_t1,t1,t2):\n",
    "    return r_t1*np.exp(-alpha*(t2-t1)) + b*(1-np.exp(-alpha*(t2-t1)))\n",
    "\n",
    "def vasicek_var(t1,t2):\n",
    "    return (sigma**2/2*(alpha))*(1-np.exp(-2*alpha*(t2-t1)))"
   ]
  },
  {
   "cell_type": "code",
   "execution_count": 11,
   "metadata": {},
   "outputs": [],
   "source": [
    "# Simulating interest paths\n",
    "Z               = norm.rvs(size = [num_simulations,num_years])\n",
    "r_sim           = np.zeros([num_simulations,num_years+1])\n",
    "r_sim[:,0]      = r_0\n",
    "vasicek_means   = np.zeros(num_years+1)\n",
    "vasicek_means"
   ]
  },
  {
   "cell_type": "code",
   "execution_count": null,
   "metadata": {},
   "outputs": [],
   "source": []
  }
 ],
 "metadata": {
  "kernelspec": {
   "display_name": "Python 3",
   "language": "python",
   "name": "python3"
  },
  "language_info": {
   "codemirror_mode": {
    "name": "ipython",
    "version": 3
   },
   "file_extension": ".py",
   "mimetype": "text/x-python",
   "name": "python",
   "nbconvert_exporter": "python",
   "pygments_lexer": "ipython3",
   "version": "3.7.3"
  }
 },
 "nbformat": 4,
 "nbformat_minor": 2
}
