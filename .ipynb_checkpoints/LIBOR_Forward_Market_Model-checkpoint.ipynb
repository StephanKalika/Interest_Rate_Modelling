{
 "cells": [
  {
   "cell_type": "code",
   "execution_count": 1,
   "metadata": {},
   "outputs": [],
   "source": [
    "# Simple LFMM without stochastic volatility \n",
    "# Modelling the LIBOR Forward Market Model widely considered benchmark model like the Black Scholes \n",
    "# Models financial instruments traded in the market is more ideal unlike short_rate model\n",
    "# Results in analytic price for market caps\n",
    "# Can easily be calculated using observable market instruments\n",
    "# Deals with aspect continous rates not directly observable in the markets\n",
    "# Disadvantage - many forward rates existing in financial markets"
   ]
  },
  {
   "cell_type": "code",
   "execution_count": 2,
   "metadata": {},
   "outputs": [],
   "source": [
    "# Simulating bond prices using LFMM\n",
    "# Will find forward rates, then market capitalisation factors, invert the cap factors to get discount rates\n",
    "# We use market prices for bond or generate own synthetic bond prices e.g using vasicek model "
   ]
  },
  {
   "cell_type": "code",
   "execution_count": 3,
   "metadata": {},
   "outputs": [],
   "source": [
    "# Import modules \n",
    "import math\n",
    "import numpy as np\n",
    "from scipy.stats import norm\n",
    "import scipy.integrate as integrate\n",
    "import matplotlib.pyplot as plt"
   ]
  },
  {
   "cell_type": "code",
   "execution_count": 13,
   "metadata": {},
   "outputs": [],
   "source": [
    "# Model parameters and dynamics\n",
    "r_0   = 0.05   # initial r(0) starting/known interest rate \n",
    "alpha = 0.2    # rate at which short rate tends toward long-term average\n",
    "b     = 0.08   # long-term average short rate\n",
    "sigma = 0.025  # volatility of short rate\n",
    "sigmaj = 0.2\n",
    "\n",
    "# Monte Carlo Simulation dynamics\n",
    "np.random.seed(0)\n",
    "num_simulations = 100000\n",
    "t               = np.linspace(0,40,21)\n",
    "num_steps       = len(t) # number of time steps we are simulating over "
   ]
  },
  {
   "cell_type": "code",
   "execution_count": 14,
   "metadata": {},
   "outputs": [],
   "source": [
    "# Analytical bond price functions based off closed form Vasicek model\n",
    "def A_t_T(t1,t2):\n",
    "    return (1 - np.exp(-alpha*(t2-t1)))/alpha\n",
    "\n",
    "def D_t_T(t1,t2):\n",
    "    val1 = (sigma**2/(2*alpha**2)-b)*(-A_t_T(t1,t2)+ t2-t1)\n",
    "    val2 = sigma**2*A_t_T(t1,t2)**2/(4*alpha)\n",
    "    return val1-val2\n",
    "    \n",
    "def bond_price(r_t,t,T):\n",
    "    return np.exp(-A_t_T(t,T)*r_t + D_t_T(t,T))\n",
    "\n",
    "vasi_bond_price = bond_price(r_0,0,t)"
   ]
  },
  {
   "cell_type": "code",
   "execution_count": null,
   "metadata": {},
   "outputs": [],
   "source": []
  }
 ],
 "metadata": {
  "kernelspec": {
   "display_name": "Python 3",
   "language": "python",
   "name": "python3"
  },
  "language_info": {
   "codemirror_mode": {
    "name": "ipython",
    "version": 3
   },
   "file_extension": ".py",
   "mimetype": "text/x-python",
   "name": "python",
   "nbconvert_exporter": "python",
   "pygments_lexer": "ipython3",
   "version": "3.7.3"
  }
 },
 "nbformat": 4,
 "nbformat_minor": 2
}
